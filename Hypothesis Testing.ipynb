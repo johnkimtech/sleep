{
 "cells": [
  {
   "cell_type": "code",
   "execution_count": 11,
   "metadata": {
    "tags": [
     "remove_cell"
    ]
   },
   "outputs": [],
   "source": [
    "%%capture\n",
    "# Export this Notebook to PDF\n",
    "!jupyter nbconvert --to pdf \"Hypothesis Testing.ipynb\" \\\n",
    "    --TagRemovePreprocessor.enabled=True  \\\n",
    "    --TagRemovePreprocessor.remove_cell_tags remove_cell \\\n",
    "    --TagRemovePreprocessor.remove_all_outputs_tags remove_output \\\n",
    "    --TagRemovePreprocessor.remove_input_tags remove_input;"
   ]
  },
  {
   "cell_type": "code",
   "execution_count": 1,
   "metadata": {
    "tags": [
     "remove_cell"
    ]
   },
   "outputs": [],
   "source": [
    "# Make Jupyter reload library before every execution\n",
    "\n",
    "%load_ext autoreload\n",
    "%autoreload 2\n",
    "\n",
    "import warnings\n",
    "warnings.filterwarnings('ignore')"
   ]
  },
  {
   "cell_type": "code",
   "execution_count": 2,
   "metadata": {
    "tags": [
     "remove_cell"
    ]
   },
   "outputs": [],
   "source": [
    "import pandas as pd\n",
    "import numpy as np\n",
    "\n",
    "df= pd.read_csv('data/all.csv', parse_dates=True, )"
   ]
  },
  {
   "cell_type": "markdown",
   "metadata": {},
   "source": [
    "# Hypothesis Testing"
   ]
  },
  {
   "cell_type": "markdown",
   "metadata": {},
   "source": [
    "The observed correlations from the data analysis and visualizations suggest several hypotheses that could be explored through further analysis:\n",
    "\n",
    "1. **Impact of Sleep Disturbances on Quality:** Given the strong negative correlation between sleep disturbances and quality, we can hypothesize that increased sleep disturbances are likely to negatively impact the quality of sleep.\n",
    "\n",
    "1. **Age in Relation to Sleep Duration:** The negative correlation between age and calculated night sleep duration leads to the hypothesis that sleep duration may decrease with age.\n",
    "\n",
    "1. **Relationship Between Sleep Onset Time and Quality:** The moderate negative correlation observed between sleep onset time and quality suggests that a longer time to fall asleep might be associated with poorer sleep quality.\n",
    "\n",
    "1. **Influence of Exercise on Sleep Duration and Quality:** The slight positive correlation between exercise days per week and sleep duration hints at a potential hypothesis that increased physical activity could contribute to longer and possibly better quality sleep.\n",
    "\n",
    "1. **Nap Duration's Effect on Nighttime Sleep Duration and Quality:** Although the correlation is weak, we could investigate whether the duration of naps has any effect on the duration of nighttime sleep."
   ]
  },
  {
   "cell_type": "markdown",
   "metadata": {},
   "source": [
    "## Hypothesis 1 - Increased sleep disturbances negatively impact the quality of sleep."
   ]
  },
  {
   "cell_type": "markdown",
   "metadata": {},
   "source": [
    "**Null Hypothesis ($H_0$)**: The level of Sleep Disturbances has no impact on Sleep Quality.\n",
    "\n",
    "**Alternative Hypothesis ($H_1$)**: The level of Sleep Disturbances has a negative impact on Sleep Quality."
   ]
  },
  {
   "cell_type": "markdown",
   "metadata": {},
   "source": [
    "### Spearman Correlations Test"
   ]
  },
  {
   "cell_type": "code",
   "execution_count": 3,
   "metadata": {
    "tags": [
     "remove_cell"
    ]
   },
   "outputs": [],
   "source": [
    "sleep_disturbances_mapping = {\n",
    "    \"Never\": 0,\n",
    "    \"Rarely\": 1,\n",
    "    \"Sometimes\": 2,\n",
    "    \"Frequently\": 3,\n",
    "    \"Often\": 4,\n",
    "}\n",
    "\n",
    "df[\"Sleep Disturbances Ordinal\"] = df[\"Sleep Disturbances\"].map(\n",
    "    sleep_disturbances_mapping\n",
    ")\n"
   ]
  },
  {
   "cell_type": "markdown",
   "metadata": {},
   "source": [
    "We will a 1-tail negative *Spearman correlation test* by setting `alternative='less'` to measure the correlation"
   ]
  },
  {
   "cell_type": "code",
   "execution_count": 4,
   "metadata": {},
   "outputs": [
    {
     "name": "stdout",
     "output_type": "stream",
     "text": [
      "Correlation: -0.453\n",
      "P-value: 4.198014093688787e-07\n"
     ]
    }
   ],
   "source": [
    "import scipy.stats as stats\n",
    "\n",
    "correlation, p_value = stats.spearmanr(df['Sleep Quality'].to_numpy(), df['Sleep Disturbances Ordinal'].to_numpy().astype(float), alternative='less')\n",
    "\n",
    "print(f'Correlation: {correlation:.3f}')\n",
    "print(f'P-value: {p_value}')"
   ]
  },
  {
   "cell_type": "markdown",
   "metadata": {},
   "source": [
    "With the given results of a Spearman correlation coefficient ($\\rho$) of approximately -0.453 and a p-value of approximately 4.2e-07, we can draw the following conclusions about the relationship between sleep disturbances and sleep quality:\n",
    "\n",
    "- **Strength and Direction of Correlation:** The Spearman correlation coefficient of -0.453 indicates a moderate negative correlation between sleep disturbances and sleep quality. This means that as sleep disturbances increase (become more frequent), sleep quality tends to decrease (gets worse).\n",
    "\n",
    "- **Statistical Significance:** The p-value is a measure of the probability that the observed correlation occurred by chance if there were no actual relationship in the population. A p-value of 4.2e-07 is extremely small, far below the common alpha level of 0.05 used to determine statistical significance. This means that the negative correlation observed is highly unlikely to be due to random variation in the sample; it's statistically significant.\n",
    "\n",
    "**Conclusion:**\n",
    "Based on the Spearman correlation test, we can confidently reject the null hypothesis that there is no correlation between sleep disturbances and sleep quality. The data supports the alternative hypothesis that sleep disturbances do affect sleep quality, with more disturbances associated with worse sleep quality. This result aligns with what might be expected intuitively: that individuals who experience more disturbances during sleep tend to report lower overall sleep quality."
   ]
  },
  {
   "cell_type": "markdown",
   "metadata": {},
   "source": [
    "### Chi-squared Test"
   ]
  },
  {
   "cell_type": "markdown",
   "metadata": {},
   "source": [
    "First, construct contigency table between `Sleep Disturbances` and `Sleep Quality`"
   ]
  },
  {
   "cell_type": "code",
   "execution_count": 5,
   "metadata": {},
   "outputs": [
    {
     "data": {
      "text/html": [
       "<div>\n",
       "<style scoped>\n",
       "    .dataframe tbody tr th:only-of-type {\n",
       "        vertical-align: middle;\n",
       "    }\n",
       "\n",
       "    .dataframe tbody tr th {\n",
       "        vertical-align: top;\n",
       "    }\n",
       "\n",
       "    .dataframe thead th {\n",
       "        text-align: right;\n",
       "    }\n",
       "</style>\n",
       "<table border=\"1\" class=\"dataframe\">\n",
       "  <thead>\n",
       "    <tr style=\"text-align: right;\">\n",
       "      <th>Sleep Quality</th>\n",
       "      <th>2</th>\n",
       "      <th>3</th>\n",
       "      <th>4</th>\n",
       "      <th>5</th>\n",
       "    </tr>\n",
       "    <tr>\n",
       "      <th>Sleep Disturbances</th>\n",
       "      <th></th>\n",
       "      <th></th>\n",
       "      <th></th>\n",
       "      <th></th>\n",
       "    </tr>\n",
       "  </thead>\n",
       "  <tbody>\n",
       "    <tr>\n",
       "      <th>Frequently</th>\n",
       "      <td>5</td>\n",
       "      <td>2</td>\n",
       "      <td>0</td>\n",
       "      <td>0</td>\n",
       "    </tr>\n",
       "    <tr>\n",
       "      <th>Never</th>\n",
       "      <td>0</td>\n",
       "      <td>5</td>\n",
       "      <td>6</td>\n",
       "      <td>4</td>\n",
       "    </tr>\n",
       "    <tr>\n",
       "      <th>Often</th>\n",
       "      <td>2</td>\n",
       "      <td>1</td>\n",
       "      <td>0</td>\n",
       "      <td>0</td>\n",
       "    </tr>\n",
       "    <tr>\n",
       "      <th>Rarely</th>\n",
       "      <td>2</td>\n",
       "      <td>17</td>\n",
       "      <td>24</td>\n",
       "      <td>5</td>\n",
       "    </tr>\n",
       "    <tr>\n",
       "      <th>Sometimes</th>\n",
       "      <td>5</td>\n",
       "      <td>16</td>\n",
       "      <td>14</td>\n",
       "      <td>0</td>\n",
       "    </tr>\n",
       "  </tbody>\n",
       "</table>\n",
       "</div>"
      ],
      "text/plain": [
       "Sleep Quality       2   3   4  5\n",
       "Sleep Disturbances              \n",
       "Frequently          5   2   0  0\n",
       "Never               0   5   6  4\n",
       "Often               2   1   0  0\n",
       "Rarely              2  17  24  5\n",
       "Sometimes           5  16  14  0"
      ]
     },
     "execution_count": 5,
     "metadata": {},
     "output_type": "execute_result"
    }
   ],
   "source": [
    "contingency_table = pd.crosstab(df['Sleep Disturbances'], df['Sleep Quality'])\n",
    "contingency_table"
   ]
  },
  {
   "cell_type": "markdown",
   "metadata": {},
   "source": [
    "After that, the Chi-squared test could be conducted with `scipy` library"
   ]
  },
  {
   "cell_type": "code",
   "execution_count": 6,
   "metadata": {},
   "outputs": [
    {
     "name": "stdout",
     "output_type": "stream",
     "text": [
      "Chi2 Stat: 46.03087922530431\n",
      "P Value: 6.853850711377629e-06\n"
     ]
    }
   ],
   "source": [
    "from scipy.stats import chi2_contingency\n",
    "\n",
    "# Perform the Chi-squared test\n",
    "chi2_stat, p_val, dof, ex = chi2_contingency(contingency_table)\n",
    "\n",
    "# Print the results\n",
    "print(f\"Chi2 Stat: {chi2_stat}\")\n",
    "print(f\"P Value: {p_val}\")"
   ]
  },
  {
   "cell_type": "markdown",
   "metadata": {},
   "source": [
    "The results from the Chi-squared test on your data can be interpreted as follows\n",
    "\n",
    "\n",
    "**Chi-Squared Statistic (Chi2 Stat):**\n",
    "The value is approximately 46.03. This statistic measures the difference between the observed and expected frequencies in the contingency table. A higher value typically indicates a stronger departure from the null hypothesis.\n",
    "\n",
    "**P-Value:**\n",
    "The p-value is about 6.85e-06, which is significantly less than the common alpha level of 0.05. This low p-value indicates that the observed association between sleep disturbances and sleep quality is highly unlikely to have occurred by random chance.\n",
    "\n",
    "\n",
    "**Conclusion:**\n",
    "Given the very low p-value and the high Chi-squared statistic, you can reject the null hypothesis of independence. This means there is a statistically significant association between sleep disturbances and sleep quality in your dataset. In other words, the level of sleep disturbances appears to be related to the reported sleep quality of the individuals in your study."
   ]
  },
  {
   "cell_type": "markdown",
   "metadata": {},
   "source": [
    "## Hypothesis 3 - The longer it takes to fall as sleep, the worse Sleep Quality becomes"
   ]
  },
  {
   "cell_type": "markdown",
   "metadata": {},
   "source": [
    "### Spearman Correlation Test"
   ]
  },
  {
   "cell_type": "markdown",
   "metadata": {},
   "source": [
    "**Null Hypothesis ($H_0$)**: The increase of Sleep onset time has no impact on Sleep Quality.\n",
    "\n",
    "**Alternative Hypothesis ($H_1$)**: The increase of Sleep onset time leads to the decline on Sleep Quality.\n"
   ]
  },
  {
   "cell_type": "code",
   "execution_count": 7,
   "metadata": {
    "tags": [
     "remove_cell"
    ]
   },
   "outputs": [],
   "source": [
    "onset_mapping = {\n",
    "    \"<15 Minutes\": 7.5,\n",
    "    \"30-60 Minutes\": 45,\n",
    "    \"15-30 Minutes\": 20,\n",
    "    \">60 Minutes\": 60,\n",
    "}\n",
    "\n",
    "df[\"Sleep Onset Time Ordinal\"] = df[\"Sleep Onset Time\"].map(onset_mapping)\n"
   ]
  },
  {
   "cell_type": "code",
   "execution_count": 8,
   "metadata": {},
   "outputs": [
    {
     "name": "stdout",
     "output_type": "stream",
     "text": [
      "Correlation: -0.37764117513828727\n",
      "P-value: 2.7990152273389178e-05\n"
     ]
    }
   ],
   "source": [
    "import scipy.stats as stats\n",
    "\n",
    "# Perform Spearman correlation test\n",
    "correlation, p_value = stats.spearmanr(df['Sleep Quality'].to_numpy(), df['Sleep Onset Time Ordinal'].to_numpy().astype(float), alternative='less')\n",
    "\n",
    "print(f'Correlation: {correlation}')\n",
    "print(f'P-value: {p_value}')"
   ]
  },
  {
   "cell_type": "markdown",
   "metadata": {},
   "source": [
    "-  **Correlation Coefficient:** The negative correlation coefficient indicates an inverse relationship between sleep onset time and sleep quality. This suggests that longer times to fall asleep (indicating difficulty initiating sleep) are associated with lower sleep quality ratings.\n",
    "\n",
    "-  **Statistical Significance:** The p-value measures the probability that the observed correlation is due to random chance. A p-value of 2.80e-05 is very small and well below the conventional alpha level of 0.05, which is commonly used to assess statistical significance. This indicates that the observed correlation is highly unlikely to have occurred by chance.\n",
    "\n",
    "**Conclusion:**\n",
    "\n",
    "Based on the Spearman correlation test, we can reject the null hypothesis ($H_0$) that sleep onset time has no impact on sleep quality. Instead, we accept the alternative hypothesis ($H_1$) that there is a statistically significant negative relationship between sleep onset time and sleep quality. In practical terms, this result suggests that interventions aimed at reducing sleep onset time might be beneficial for improving overall sleep quality."
   ]
  },
  {
   "cell_type": "markdown",
   "metadata": {},
   "source": [
    "### Chi-squared Test"
   ]
  },
  {
   "cell_type": "markdown",
   "metadata": {},
   "source": [
    "First, construct contigency table between `Sleep Onset Time` and `Sleep Quality`"
   ]
  },
  {
   "cell_type": "code",
   "execution_count": 9,
   "metadata": {},
   "outputs": [
    {
     "data": {
      "text/html": [
       "<div>\n",
       "<style scoped>\n",
       "    .dataframe tbody tr th:only-of-type {\n",
       "        vertical-align: middle;\n",
       "    }\n",
       "\n",
       "    .dataframe tbody tr th {\n",
       "        vertical-align: top;\n",
       "    }\n",
       "\n",
       "    .dataframe thead th {\n",
       "        text-align: right;\n",
       "    }\n",
       "</style>\n",
       "<table border=\"1\" class=\"dataframe\">\n",
       "  <thead>\n",
       "    <tr style=\"text-align: right;\">\n",
       "      <th>Sleep Quality</th>\n",
       "      <th>2</th>\n",
       "      <th>3</th>\n",
       "      <th>4</th>\n",
       "      <th>5</th>\n",
       "    </tr>\n",
       "    <tr>\n",
       "      <th>Sleep Onset Time</th>\n",
       "      <th></th>\n",
       "      <th></th>\n",
       "      <th></th>\n",
       "      <th></th>\n",
       "    </tr>\n",
       "  </thead>\n",
       "  <tbody>\n",
       "    <tr>\n",
       "      <th>15-30 Minutes</th>\n",
       "      <td>5</td>\n",
       "      <td>22</td>\n",
       "      <td>24</td>\n",
       "      <td>4</td>\n",
       "    </tr>\n",
       "    <tr>\n",
       "      <th>30-60 Minutes</th>\n",
       "      <td>5</td>\n",
       "      <td>12</td>\n",
       "      <td>4</td>\n",
       "      <td>0</td>\n",
       "    </tr>\n",
       "    <tr>\n",
       "      <th>&lt;15 Minutes</th>\n",
       "      <td>2</td>\n",
       "      <td>5</td>\n",
       "      <td>14</td>\n",
       "      <td>5</td>\n",
       "    </tr>\n",
       "    <tr>\n",
       "      <th>&gt;60 Minutes</th>\n",
       "      <td>2</td>\n",
       "      <td>2</td>\n",
       "      <td>2</td>\n",
       "      <td>0</td>\n",
       "    </tr>\n",
       "  </tbody>\n",
       "</table>\n",
       "</div>"
      ],
      "text/plain": [
       "Sleep Quality     2   3   4  5\n",
       "Sleep Onset Time              \n",
       "15-30 Minutes     5  22  24  4\n",
       "30-60 Minutes     5  12   4  0\n",
       "<15 Minutes       2   5  14  5\n",
       ">60 Minutes       2   2   2  0"
      ]
     },
     "execution_count": 9,
     "metadata": {},
     "output_type": "execute_result"
    }
   ],
   "source": [
    "contingency_table = pd.crosstab(df['Sleep Onset Time'], df['Sleep Quality'])\n",
    "contingency_table"
   ]
  },
  {
   "cell_type": "markdown",
   "metadata": {},
   "source": [
    "After that, the Chi-squared test could be conducted with `scipy` library"
   ]
  },
  {
   "cell_type": "code",
   "execution_count": 10,
   "metadata": {},
   "outputs": [
    {
     "name": "stdout",
     "output_type": "stream",
     "text": [
      "Chi2 Stat: 19.297119225405574\n",
      "P Value: 0.022781787964876524\n"
     ]
    }
   ],
   "source": [
    "from scipy.stats import chi2_contingency\n",
    "\n",
    "# Perform the Chi-squared test\n",
    "chi2_stat, p_val, dof, ex = chi2_contingency(contingency_table)\n",
    "\n",
    "# Print the results\n",
    "print(f\"Chi2 Stat: {chi2_stat}\")\n",
    "print(f\"P Value: {p_val}\")"
   ]
  },
  {
   "cell_type": "markdown",
   "metadata": {},
   "source": [
    "The results from the Chi-squared test related to Hypothesis 3, which concerns the relationship between sleep onset time and sleep quality, can be interpreted as follows:\n",
    "\n",
    "\n",
    "**Chi-Squared Statistic (Chi2 Stat):**\n",
    "\n",
    "The value is approximately 19.30. This statistic measures how much the observed frequencies in the data deviate from the frequencies that would be expected if there were no association between sleep onset time and sleep quality. A higher value typically indicates a stronger departure from the null hypothesis.\n",
    "\n",
    "**P-Value:**\n",
    "\n",
    "The p-value is approximately 0.0228, which is lower the common alpha level of 0.05. This indicates that there is a statistically significant association between sleep onset time and sleep quality, although the strength of this association is not as strong as it might be for a much lower p-value.\n",
    "\n",
    "\n",
    "**Conclusion:**\n",
    "\n",
    "Given the p-value of 0.0228, which is less than the alpha level of 0.05, you can reject the null hypothesis. This suggests that there is a statistically significant association between sleep onset time and sleep quality in your dataset. The relationship, as indicated by the Chi-squared statistic, is present but not extremely strong.\n",
    "\n",
    "You should examine the observed frequencies against the expected frequencies to gain insights into the nature of the association. For instance, you might find that certain sleep onset times are more frequently associated with particular levels of sleep quality, indicating patterns that could be of interest for further study or interventions."
   ]
  },
  {
   "cell_type": "markdown",
   "metadata": {},
   "source": []
  }
 ],
 "metadata": {
  "kernelspec": {
   "display_name": "base",
   "language": "python",
   "name": "python3"
  },
  "language_info": {
   "codemirror_mode": {
    "name": "ipython",
    "version": 3
   },
   "file_extension": ".py",
   "mimetype": "text/x-python",
   "name": "python",
   "nbconvert_exporter": "python",
   "pygments_lexer": "ipython3",
   "version": "3.10.9"
  }
 },
 "nbformat": 4,
 "nbformat_minor": 2
}
