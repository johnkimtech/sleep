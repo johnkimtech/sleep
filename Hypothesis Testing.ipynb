{
 "cells": [
  {
   "cell_type": "code",
   "execution_count": 13,
   "metadata": {
    "tags": [
     "remove_cell"
    ]
   },
   "outputs": [],
   "source": [
    "%%capture\n",
    "# Export this Notebook to PDF\n",
    "!jupyter nbconvert --to pdf \"Hypothesis Testing.ipynb\" \\\n",
    "    --TagRemovePreprocessor.enabled=True  \\\n",
    "    --TagRemovePreprocessor.remove_cell_tags remove_cell \\\n",
    "    --TagRemovePreprocessor.remove_all_outputs_tags remove_output \\\n",
    "    --TagRemovePreprocessor.remove_input_tags remove_input;"
   ]
  },
  {
   "cell_type": "code",
   "execution_count": 1,
   "metadata": {
    "tags": [
     "remove_cell"
    ]
   },
   "outputs": [],
   "source": [
    "# Make Jupyter reload library before every execution\n",
    "\n",
    "%load_ext autoreload\n",
    "%autoreload 2\n",
    "\n",
    "import warnings\n",
    "warnings.filterwarnings('ignore')"
   ]
  },
  {
   "cell_type": "code",
   "execution_count": 2,
   "metadata": {
    "tags": [
     "remove_cell"
    ]
   },
   "outputs": [],
   "source": [
    "import pandas as pd\n",
    "import numpy as np\n",
    "\n",
    "df= pd.read_csv('data/all.csv', parse_dates=True, )"
   ]
  },
  {
   "cell_type": "markdown",
   "metadata": {},
   "source": [
    "# Hypothesis Testing"
   ]
  },
  {
   "cell_type": "markdown",
   "metadata": {},
   "source": [
    "The observed correlations from the data analysis and visualizations suggest several hypotheses that could be explored through further analysis:\n",
    "\n",
    "1. **Impact of Sleep Disturbances on Quality:** Given the strong negative correlation between sleep disturbances and quality, we can hypothesize that increased sleep disturbances are likely to negatively impact the quality of sleep.\n",
    "\n",
    "1. **Age in Relation to Sleep Duration:** The negative correlation between age and calculated night sleep duration leads to the hypothesis that sleep duration may decrease with age.\n",
    "\n",
    "1. **Relationship Between Sleep Onset Time and Quality:** The moderate negative correlation observed between sleep onset time and quality suggests that a longer time to fall asleep might be associated with poorer sleep quality.\n",
    "\n",
    "1. **Influence of Exercise on Sleep Duration and Quality:** The slight positive correlation between exercise days per week and sleep duration hints at a potential hypothesis that increased physical activity could contribute to longer and possibly better quality sleep.\n",
    "\n",
    "1. **Nap Duration's Effect on Nighttime Sleep Duration:** Although the correlation is weak, we could investigate whether the duration of naps has any effect on the duration of nighttime sleep."
   ]
  },
  {
   "cell_type": "markdown",
   "metadata": {},
   "source": [
    "For each hypothesis, we aim to perform at least two types of hypothesis testing methods provided by the Scipy libray."
   ]
  },
  {
   "cell_type": "markdown",
   "metadata": {},
   "source": [
    "## Hypothesis 1 - Increased sleep disturbances negatively impact the quality of sleep."
   ]
  },
  {
   "cell_type": "markdown",
   "metadata": {},
   "source": [
    "**Null Hypothesis ($H_0$)**: The level of Sleep Disturbances has no impact on Sleep Quality.\n",
    "\n",
    "**Alternative Hypothesis ($H_1$)**: The level of Sleep Disturbances has a negative impact on Sleep Quality."
   ]
  },
  {
   "cell_type": "markdown",
   "metadata": {},
   "source": [
    "### Spearman Correlations Test"
   ]
  },
  {
   "cell_type": "code",
   "execution_count": 3,
   "metadata": {
    "tags": [
     "remove_cell"
    ]
   },
   "outputs": [],
   "source": [
    "sleep_disturbances_mapping = {\n",
    "    \"Never\": 0,\n",
    "    \"Rarely\": 1,\n",
    "    \"Sometimes\": 2,\n",
    "    \"Frequently\": 3,\n",
    "    \"Often\": 4,\n",
    "}\n",
    "\n",
    "df[\"Sleep Disturbances Ordinal\"] = df[\"Sleep Disturbances\"].map(\n",
    "    sleep_disturbances_mapping\n",
    ")\n"
   ]
  },
  {
   "cell_type": "markdown",
   "metadata": {},
   "source": [
    "We will a 1-tail negative *Spearman correlation test* by setting `alternative='less'` to measure the correlation"
   ]
  },
  {
   "cell_type": "code",
   "execution_count": 4,
   "metadata": {},
   "outputs": [
    {
     "name": "stdout",
     "output_type": "stream",
     "text": [
      "Correlation: -0.453\n",
      "P-value: 4.198014093688786e-07\n"
     ]
    }
   ],
   "source": [
    "import scipy.stats as stats\n",
    "\n",
    "correlation, p_value = stats.spearmanr(df['Sleep Quality'].to_numpy(), df['Sleep Disturbances Ordinal'].to_numpy().astype(float), alternative='less')\n",
    "\n",
    "print(f'Correlation: {correlation:.3f}')\n",
    "print(f'P-value: {p_value}')"
   ]
  },
  {
   "cell_type": "markdown",
   "metadata": {},
   "source": [
    "With the given results of a Spearman correlation coefficient ($\\rho$) of approximately -0.453 and a p-value of approximately 4.2e-07, we can draw the following conclusions about the relationship between sleep disturbances and sleep quality:\n",
    "\n",
    "- **Strength and Direction of Correlation:** The Spearman correlation coefficient of -0.453 indicates a moderate negative correlation between sleep disturbances and sleep quality. This means that as sleep disturbances increase (become more frequent), sleep quality tends to decrease (gets worse).\n",
    "\n",
    "- **Statistical Significance:** The p-value is a measure of the probability that the observed correlation occurred by chance if there were no actual relationship in the population. A p-value of 4.2e-07 is extremely small, far below the common alpha level of 0.05 used to determine statistical significance. This means that the negative correlation observed is highly unlikely to be due to random variation in the sample; it's statistically significant.\n",
    "\n",
    "**Conclusion:**\n",
    "Based on the Spearman correlation test, we can confidently reject the null hypothesis that there is no correlation between sleep disturbances and sleep quality. The data supports the alternative hypothesis that sleep disturbances do affect sleep quality, with more disturbances associated with worse sleep quality. This result aligns with what might be expected intuitively: that individuals who experience more disturbances during sleep tend to report lower overall sleep quality."
   ]
  },
  {
   "cell_type": "markdown",
   "metadata": {},
   "source": [
    "### Chi-squared Test"
   ]
  },
  {
   "cell_type": "markdown",
   "metadata": {},
   "source": [
    "First, construct contigency table between `Sleep Disturbances` and `Sleep Quality`"
   ]
  },
  {
   "cell_type": "code",
   "execution_count": 5,
   "metadata": {},
   "outputs": [
    {
     "data": {
      "text/html": [
       "<div>\n",
       "<style scoped>\n",
       "    .dataframe tbody tr th:only-of-type {\n",
       "        vertical-align: middle;\n",
       "    }\n",
       "\n",
       "    .dataframe tbody tr th {\n",
       "        vertical-align: top;\n",
       "    }\n",
       "\n",
       "    .dataframe thead th {\n",
       "        text-align: right;\n",
       "    }\n",
       "</style>\n",
       "<table border=\"1\" class=\"dataframe\">\n",
       "  <thead>\n",
       "    <tr style=\"text-align: right;\">\n",
       "      <th>Sleep Quality</th>\n",
       "      <th>2</th>\n",
       "      <th>3</th>\n",
       "      <th>4</th>\n",
       "      <th>5</th>\n",
       "    </tr>\n",
       "    <tr>\n",
       "      <th>Sleep Disturbances</th>\n",
       "      <th></th>\n",
       "      <th></th>\n",
       "      <th></th>\n",
       "      <th></th>\n",
       "    </tr>\n",
       "  </thead>\n",
       "  <tbody>\n",
       "    <tr>\n",
       "      <th>Frequently</th>\n",
       "      <td>5</td>\n",
       "      <td>2</td>\n",
       "      <td>0</td>\n",
       "      <td>0</td>\n",
       "    </tr>\n",
       "    <tr>\n",
       "      <th>Never</th>\n",
       "      <td>0</td>\n",
       "      <td>5</td>\n",
       "      <td>6</td>\n",
       "      <td>4</td>\n",
       "    </tr>\n",
       "    <tr>\n",
       "      <th>Often</th>\n",
       "      <td>2</td>\n",
       "      <td>1</td>\n",
       "      <td>0</td>\n",
       "      <td>0</td>\n",
       "    </tr>\n",
       "    <tr>\n",
       "      <th>Rarely</th>\n",
       "      <td>2</td>\n",
       "      <td>17</td>\n",
       "      <td>24</td>\n",
       "      <td>5</td>\n",
       "    </tr>\n",
       "    <tr>\n",
       "      <th>Sometimes</th>\n",
       "      <td>5</td>\n",
       "      <td>16</td>\n",
       "      <td>14</td>\n",
       "      <td>0</td>\n",
       "    </tr>\n",
       "  </tbody>\n",
       "</table>\n",
       "</div>"
      ],
      "text/plain": [
       "Sleep Quality       2   3   4  5\n",
       "Sleep Disturbances              \n",
       "Frequently          5   2   0  0\n",
       "Never               0   5   6  4\n",
       "Often               2   1   0  0\n",
       "Rarely              2  17  24  5\n",
       "Sometimes           5  16  14  0"
      ]
     },
     "execution_count": 5,
     "metadata": {},
     "output_type": "execute_result"
    }
   ],
   "source": [
    "contingency_table = pd.crosstab(df['Sleep Disturbances'], df['Sleep Quality'])\n",
    "contingency_table"
   ]
  },
  {
   "cell_type": "markdown",
   "metadata": {},
   "source": [
    "After that, the Chi-squared test could be conducted with `scipy` library"
   ]
  },
  {
   "cell_type": "code",
   "execution_count": 6,
   "metadata": {},
   "outputs": [
    {
     "name": "stdout",
     "output_type": "stream",
     "text": [
      "Chi2 Stat: 46.03087922530431\n",
      "P Value: 6.853850711377629e-06\n",
      "Degrees of Freedom: 12\n"
     ]
    }
   ],
   "source": [
    "from scipy.stats import chi2_contingency\n",
    "\n",
    "# Perform the Chi-squared test\n",
    "chi2_stat, p_val, dof, ex = chi2_contingency(contingency_table)\n",
    "\n",
    "# Print the results\n",
    "print(f\"Chi2 Stat: {chi2_stat}\")\n",
    "print(f\"P Value: {p_val}\")\n",
    "print(f\"Degrees of Freedom: {dof}\")"
   ]
  },
  {
   "cell_type": "markdown",
   "metadata": {},
   "source": [
    "The results from the Chi-squared test on our data can be interpreted as follows\n",
    "\n",
    "\n",
    "**Chi-Squared Statistic (Chi2 Stat):**\n",
    "The value is approximately 46.03, which is notably higher than the critical value of 21.026 for a chi-square distribution with 12 degrees of freedom at significant level of 0.05. As a result, this considerable difference suggests strong evidence to reject the Null hypothesis.\n",
    "\n",
    "**P-Value:**\n",
    "The p-value is about 6.85e-06, which is significantly less than the common alpha level of 0.05. This low p-value indicates that the observed association between sleep disturbances and sleep quality is highly unlikely to have occurred by random chance.\n",
    "\n",
    "\n",
    "**Conclusion:**\n",
    "Given the very low p-value and the high Chi-squared statistic, we can reject the null hypothesis of independence. This means there is a statistically significant association between sleep disturbances and sleep quality in our dataset. In other words, the level of sleep disturbances appears to be related to the reported sleep quality of the individuals in our study."
   ]
  },
  {
   "cell_type": "markdown",
   "metadata": {},
   "source": [
    "## Hypothesis 2 - Older people have shorter Night sleep"
   ]
  },
  {
   "cell_type": "markdown",
   "metadata": {},
   "source": [
    "**Null Hypothesis ($H_0$)**: Age group has no impact on Sleep Duration.\n",
    "\n",
    "**Alternative Hypothesis ($H_1$)**: Age group has negative correlation with Sleep Duration"
   ]
  },
  {
   "cell_type": "markdown",
   "metadata": {},
   "source": [
    "### Pearson Correlations Test\n",
    "\n",
    "Since the distribution of Sleep Quality is fairly normal, we'll use the Pearson test."
   ]
  },
  {
   "cell_type": "code",
   "execution_count": 7,
   "metadata": {
    "tags": [
     "remove_cell"
    ]
   },
   "outputs": [],
   "source": [
    "age_mapping = {\n",
    "    \"25-34\": 30,\n",
    "    \"16-24\": 20,\n",
    "    \"35-44\": 40,\n",
    "    \"45-54\": 50,\n",
    "    \"55+\": 60,\n",
    "}\n",
    "\n",
    "df[\"Age Group Ordinal\"] = df[\"Age Group\"].map(age_mapping)"
   ]
  },
  {
   "cell_type": "markdown",
   "metadata": {},
   "source": [
    "We will a 1-tail negative *Pearson correlation test* by setting `alternative='less'` to measure the correlation"
   ]
  },
  {
   "cell_type": "code",
   "execution_count": 8,
   "metadata": {},
   "outputs": [
    {
     "name": "stdout",
     "output_type": "stream",
     "text": [
      "Correlation: -0.232\n",
      "P-value: 0.008805297803731816\n"
     ]
    }
   ],
   "source": [
    "import scipy.stats as stats\n",
    "\n",
    "da = df.dropna(subset=['Age Group Ordinal','Calculated Night Sleep Duration'], axis='index')\n",
    "\n",
    "correlation, p_value = stats.pearsonr(da['Calculated Night Sleep Duration'].to_numpy(), da['Age Group Ordinal'].to_numpy().astype(float), alternative='less')\n",
    "\n",
    "print(f'Correlation: {correlation:.3f}')\n",
    "print(f'P-value: {p_value}')"
   ]
  },
  {
   "cell_type": "markdown",
   "metadata": {},
   "source": [
    "- **Correlation Coefficient:** The value is approximately -0.232, indicating a weak negative correlation between age group and sleep duration. This means that as age increases, there is a slight tendency for sleep duration to decrease.\n",
    "\n",
    "- **P-value:** The p-value is approximately 0.0088, which is less than the conventional significance level of 0.05. The one-tailed test suggests that we can reject the null hypothesis in favor of the alternative hypothesis, which is that age group has a negative correlation with sleep duration.\n",
    "\n",
    "\n",
    "**Conclusion:**\n",
    "The test provides evidence to support the claim that older age groups tend to have shorter sleep duration. The correlation is not strong but is statistically significant, suggesting a slight trend where sleep duration decreases with increasing age. This result is consistent with the alternative hypothesis and indicates that age may be a factor influencing sleep duration. However, the correlation is weak, so while there may be a trend, it is not a definitive predictor of sleep duration. Other factors not considered in this test may also play a role in determining sleep duration across age groups."
   ]
  },
  {
   "cell_type": "markdown",
   "metadata": {},
   "source": [
    "### Kendall's Tau test"
   ]
  },
  {
   "cell_type": "code",
   "execution_count": 9,
   "metadata": {},
   "outputs": [
    {
     "name": "stdout",
     "output_type": "stream",
     "text": [
      "Correlation: -0.204\n",
      "P-value: 0.006194262319330456\n"
     ]
    }
   ],
   "source": [
    "import scipy.stats as stats\n",
    "\n",
    "correlation, p_value = stats.kendalltau(da['Calculated Night Sleep Duration'].to_numpy(), da['Age Group Ordinal'].to_numpy().astype(float), alternative='less')\n",
    "\n",
    "print(f'Correlation: {correlation:.3f}')\n",
    "print(f'P-value: {p_value}')"
   ]
  },
  {
   "cell_type": "markdown",
   "metadata": {},
   "source": [
    "- **Correlation Coefficient:**\n",
    "The value of Kendall’s Tau is -0.204, which indicates a weak negative correlation between age group and sleep duration. This means that as the ordinal age group increases (which likely corresponds to increasing actual age), there is a slight tendency for sleep duration to decrease.\n",
    "- **Statistical Significance:**\n",
    "The p-value is approximately 0.00619, which is less than the conventional alpha level of 0.05 used for statistical significance. This indicates that the observed correlation is statistically significant and is not likely to have occurred by chance.\n",
    "\n",
    "\n",
    "**Conclusion:**\n",
    "Baed on the Kendall’s Tau test, you can reject the null hypothesis that there is no association between age group and sleep duration. The data suggests that there is a statistically significant, albeit weak, negative relationship between the two. As people fall into higher ordinal age groups, they may experience a slight decrease in sleep duration. However, given the weak strength of the correlation, age alone is not a strong predictor of sleep duration, and other factors may also play a significant role."
   ]
  },
  {
   "cell_type": "markdown",
   "metadata": {},
   "source": [
    "## Hypothesis 3 - The longer it takes to fall as sleep, the worse Sleep Quality becomes"
   ]
  },
  {
   "cell_type": "markdown",
   "metadata": {},
   "source": [
    "### Spearman Correlation Test"
   ]
  },
  {
   "cell_type": "markdown",
   "metadata": {},
   "source": [
    "**Null Hypothesis ($H_0$)**: The increase of Sleep onset time has no impact on Sleep Quality.\n",
    "\n",
    "**Alternative Hypothesis ($H_1$)**: The increase of Sleep onset time leads to the decline on Sleep Quality.\n"
   ]
  },
  {
   "cell_type": "code",
   "execution_count": 10,
   "metadata": {
    "tags": [
     "remove_cell"
    ]
   },
   "outputs": [],
   "source": [
    "onset_mapping = {\n",
    "    \"<15 Minutes\": 7.5,\n",
    "    \"30-60 Minutes\": 45,\n",
    "    \"15-30 Minutes\": 20,\n",
    "    \">60 Minutes\": 60,\n",
    "}\n",
    "\n",
    "df[\"Sleep Onset Time Ordinal\"] = df[\"Sleep Onset Time\"].map(onset_mapping)\n"
   ]
  },
  {
   "cell_type": "code",
   "execution_count": 11,
   "metadata": {},
   "outputs": [
    {
     "name": "stdout",
     "output_type": "stream",
     "text": [
      "Correlation: -0.37764117513828727\n",
      "P-value: 2.7990152273389178e-05\n"
     ]
    }
   ],
   "source": [
    "import scipy.stats as stats\n",
    "\n",
    "# Perform Spearman correlation test\n",
    "correlation, p_value = stats.spearmanr(df['Sleep Quality'].to_numpy(), df['Sleep Onset Time Ordinal'].to_numpy().astype(float), alternative='less')\n",
    "\n",
    "print(f'Correlation: {correlation}')\n",
    "print(f'P-value: {p_value}')"
   ]
  },
  {
   "cell_type": "markdown",
   "metadata": {},
   "source": [
    "-  **Correlation Coefficient:** The negative correlation coefficient indicates an inverse relationship between sleep onset time and sleep quality. This suggests that longer times to fall asleep (indicating difficulty initiating sleep) are associated with lower sleep quality ratings.\n",
    "\n",
    "-  **Statistical Significance:** The p-value measures the probability that the observed correlation is due to random chance. A p-value of 2.80e-05 is very small and well below the conventional alpha level of 0.05, which is commonly used to assess statistical significance. This indicates that the observed correlation is highly unlikely to have occurred by chance.\n",
    "\n",
    "**Conclusion:**\n",
    "\n",
    "Based on the Spearman correlation test, we can reject the null hypothesis ($H_0$) that sleep onset time has no impact on sleep quality. Instead, we accept the alternative hypothesis ($H_1$) that there is a statistically significant negative relationship between sleep onset time and sleep quality. In practical terms, this result suggests that interventions aimed at reducing sleep onset time might be beneficial for improving overall sleep quality."
   ]
  },
  {
   "cell_type": "markdown",
   "metadata": {},
   "source": [
    "### Chi-squared Test"
   ]
  },
  {
   "cell_type": "markdown",
   "metadata": {},
   "source": [
    "First, construct contigency table between `Sleep Onset Time` and `Sleep Quality`"
   ]
  },
  {
   "cell_type": "code",
   "execution_count": 12,
   "metadata": {},
   "outputs": [
    {
     "data": {
      "text/html": [
       "<div>\n",
       "<style scoped>\n",
       "    .dataframe tbody tr th:only-of-type {\n",
       "        vertical-align: middle;\n",
       "    }\n",
       "\n",
       "    .dataframe tbody tr th {\n",
       "        vertical-align: top;\n",
       "    }\n",
       "\n",
       "    .dataframe thead th {\n",
       "        text-align: right;\n",
       "    }\n",
       "</style>\n",
       "<table border=\"1\" class=\"dataframe\">\n",
       "  <thead>\n",
       "    <tr style=\"text-align: right;\">\n",
       "      <th>Sleep Quality</th>\n",
       "      <th>2</th>\n",
       "      <th>3</th>\n",
       "      <th>4</th>\n",
       "      <th>5</th>\n",
       "    </tr>\n",
       "    <tr>\n",
       "      <th>Sleep Onset Time</th>\n",
       "      <th></th>\n",
       "      <th></th>\n",
       "      <th></th>\n",
       "      <th></th>\n",
       "    </tr>\n",
       "  </thead>\n",
       "  <tbody>\n",
       "    <tr>\n",
       "      <th>15-30 Minutes</th>\n",
       "      <td>5</td>\n",
       "      <td>22</td>\n",
       "      <td>24</td>\n",
       "      <td>4</td>\n",
       "    </tr>\n",
       "    <tr>\n",
       "      <th>30-60 Minutes</th>\n",
       "      <td>5</td>\n",
       "      <td>12</td>\n",
       "      <td>4</td>\n",
       "      <td>0</td>\n",
       "    </tr>\n",
       "    <tr>\n",
       "      <th>&lt;15 Minutes</th>\n",
       "      <td>2</td>\n",
       "      <td>5</td>\n",
       "      <td>14</td>\n",
       "      <td>5</td>\n",
       "    </tr>\n",
       "    <tr>\n",
       "      <th>&gt;60 Minutes</th>\n",
       "      <td>2</td>\n",
       "      <td>2</td>\n",
       "      <td>2</td>\n",
       "      <td>0</td>\n",
       "    </tr>\n",
       "  </tbody>\n",
       "</table>\n",
       "</div>"
      ],
      "text/plain": [
       "Sleep Quality     2   3   4  5\n",
       "Sleep Onset Time              \n",
       "15-30 Minutes     5  22  24  4\n",
       "30-60 Minutes     5  12   4  0\n",
       "<15 Minutes       2   5  14  5\n",
       ">60 Minutes       2   2   2  0"
      ]
     },
     "execution_count": 12,
     "metadata": {},
     "output_type": "execute_result"
    }
   ],
   "source": [
    "contingency_table = pd.crosstab(df['Sleep Onset Time'], df['Sleep Quality'])\n",
    "contingency_table"
   ]
  },
  {
   "cell_type": "markdown",
   "metadata": {},
   "source": [
    "After that, the Chi-squared test could be conducted with `scipy` library"
   ]
  },
  {
   "cell_type": "code",
   "execution_count": 13,
   "metadata": {},
   "outputs": [
    {
     "name": "stdout",
     "output_type": "stream",
     "text": [
      "Chi2 Stat: 19.297119225405574\n",
      "Degrees of Freedom: 9\n",
      "P Value: 0.022781787964876524\n"
     ]
    }
   ],
   "source": [
    "from scipy.stats import chi2_contingency\n",
    "\n",
    "# Perform the Chi-squared test\n",
    "chi2_stat, p_val, dof, ex = chi2_contingency(contingency_table)\n",
    "\n",
    "# Print the results\n",
    "print(f\"Chi2 Stat: {chi2_stat}\")\n",
    "print(f\"Degrees of Freedom: {dof}\")\n",
    "print(f\"P Value: {p_val}\")"
   ]
  },
  {
   "cell_type": "markdown",
   "metadata": {},
   "source": [
    "The results from the Chi-squared test related to Hypothesis 3, which concerns the relationship between sleep onset time and sleep quality, can be interpreted as follows:\n",
    "\n",
    "\n",
    "1. **Chi-Squared Statistic (Chi2 Stat):**\n",
    "Since the calculated Chi-square statistic is greater than the critical value, we can conclude that there is a statistically significant association between \"Sleep Onset Time\" and \"Sleep Quality\" at the 0.05 significance level. This means that the two variables are not independent, and their relationship is not likely to be due to random chance.\n",
    "\n",
    "1. **P-Value:**\n",
    "The p-value is approximately 0.0228, which is lower the common alpha level of 0.05. This indicates that there is a statistically significant association between sleep onset time and sleep quality, although the strength of this association is not as strong as it might be for a much lower p-value.\n",
    "\n",
    "\n",
    "**Conclusion:**\n",
    "Given the p-value of 0.0228, which is less than the alpha level of 0.05, we can reject the null hypothesis. This suggests that there is a statistically significant association between sleep onset time and sleep quality in our dataset. The relationship, as indicated by the Chi-squared statistic, is present but not extremely strong."
   ]
  },
  {
   "cell_type": "markdown",
   "metadata": {},
   "source": [
    "## Hypothesis 4a - Weekly exercise frequency improves sleep quality"
   ]
  },
  {
   "cell_type": "markdown",
   "metadata": {},
   "source": [
    "### Spearman Correlation Test"
   ]
  },
  {
   "cell_type": "markdown",
   "metadata": {},
   "source": [
    "**Null Hypothesis ($H_0$)**: The increase of Weekly exercise frequency has no impact on Sleep Quality.\n",
    "\n",
    "**Alternative Hypothesis ($H_1$)**: The increase of Weekly exercise frequency improves on Sleep Quality.\n"
   ]
  },
  {
   "cell_type": "code",
   "execution_count": 14,
   "metadata": {
    "tags": [
     "remove_cell"
    ]
   },
   "outputs": [],
   "source": [
    "exercise_mapping = {\"0 Days\": 0, \"1-2 Days\": 1, \"3-4 Days\": 2, \"5+ Days\": 3}\n",
    "df[\"Exercise Days/Week Ordinal\"] = df[\"Exercise Days/Week\"].map(exercise_mapping)"
   ]
  },
  {
   "cell_type": "markdown",
   "metadata": {},
   "source": [
    "Since we are testing the positive correlation, `alternative='greater'` is used"
   ]
  },
  {
   "cell_type": "code",
   "execution_count": 15,
   "metadata": {},
   "outputs": [
    {
     "name": "stdout",
     "output_type": "stream",
     "text": [
      "Correlation: -0.0577165101075317\n",
      "P-value: 0.7235175030385403\n"
     ]
    }
   ],
   "source": [
    "import scipy.stats as stats\n",
    "\n",
    "# Perform Spearman correlation test\n",
    "correlation, p_value = stats.spearmanr(df['Exercise Days/Week Ordinal'], df['Sleep Quality'], alternative='greater')\n",
    "\n",
    "print(f'Correlation: {correlation}')\n",
    "print(f'P-value: {p_value}')"
   ]
  },
  {
   "cell_type": "markdown",
   "metadata": {},
   "source": [
    "\n",
    "1. **Correlation Coefficient:**\n",
    "The negative correlation coefficient of -0.0577 is very close to zero, indicating a very weak inverse relationship between exercise frequency and sleep quality. This suggests that as exercise frequency increases, there is a very slight tendency for sleep quality to decrease, but the effect is so small that it might not be meaningful in practical terms.\n",
    "\n",
    "1. **Statistical Significance:**\n",
    "The p-value of 0.724 is much higher than the common alpha level of 0.05. A high p-value indicates that the correlation observed in the sample is very likely to have occurred by random chance and is not statistically significant.\n",
    "\n",
    "**Conclusion:**\n",
    "Based on this analysis, there is no evidence to support a significant relationship between exercise frequency and sleep quality in the dataset. The correlation is very weak and not statistically significant. This means that, within the data collected, changes in exercise frequency do not appear to have a notable impact on sleep quality. These findings suggest that other factors not captured in this analysis might play a more substantial role in determining sleep quality."
   ]
  },
  {
   "cell_type": "markdown",
   "metadata": {},
   "source": [
    "### Chi-squared Test"
   ]
  },
  {
   "cell_type": "markdown",
   "metadata": {},
   "source": [
    "First, construct contigency table between `Exercise Days/Week` and `Sleep Quality`"
   ]
  },
  {
   "cell_type": "code",
   "execution_count": 16,
   "metadata": {
    "tags": [
     "remove_cell"
    ]
   },
   "outputs": [
    {
     "data": {
      "text/html": [
       "<div>\n",
       "<style scoped>\n",
       "    .dataframe tbody tr th:only-of-type {\n",
       "        vertical-align: middle;\n",
       "    }\n",
       "\n",
       "    .dataframe tbody tr th {\n",
       "        vertical-align: top;\n",
       "    }\n",
       "\n",
       "    .dataframe thead th {\n",
       "        text-align: right;\n",
       "    }\n",
       "</style>\n",
       "<table border=\"1\" class=\"dataframe\">\n",
       "  <thead>\n",
       "    <tr style=\"text-align: right;\">\n",
       "      <th>Sleep Quality</th>\n",
       "      <th>2</th>\n",
       "      <th>3</th>\n",
       "      <th>4</th>\n",
       "      <th>5</th>\n",
       "    </tr>\n",
       "    <tr>\n",
       "      <th>Exercise Days/Week</th>\n",
       "      <th></th>\n",
       "      <th></th>\n",
       "      <th></th>\n",
       "      <th></th>\n",
       "    </tr>\n",
       "  </thead>\n",
       "  <tbody>\n",
       "    <tr>\n",
       "      <th>0 Days</th>\n",
       "      <td>4</td>\n",
       "      <td>6</td>\n",
       "      <td>8</td>\n",
       "      <td>5</td>\n",
       "    </tr>\n",
       "    <tr>\n",
       "      <th>1-2 Days</th>\n",
       "      <td>4</td>\n",
       "      <td>20</td>\n",
       "      <td>18</td>\n",
       "      <td>1</td>\n",
       "    </tr>\n",
       "    <tr>\n",
       "      <th>3-4 Days</th>\n",
       "      <td>5</td>\n",
       "      <td>7</td>\n",
       "      <td>13</td>\n",
       "      <td>2</td>\n",
       "    </tr>\n",
       "    <tr>\n",
       "      <th>5+ Days</th>\n",
       "      <td>1</td>\n",
       "      <td>8</td>\n",
       "      <td>5</td>\n",
       "      <td>1</td>\n",
       "    </tr>\n",
       "  </tbody>\n",
       "</table>\n",
       "</div>"
      ],
      "text/plain": [
       "Sleep Quality       2   3   4  5\n",
       "Exercise Days/Week              \n",
       "0 Days              4   6   8  5\n",
       "1-2 Days            4  20  18  1\n",
       "3-4 Days            5   7  13  2\n",
       "5+ Days             1   8   5  1"
      ]
     },
     "execution_count": 16,
     "metadata": {},
     "output_type": "execute_result"
    }
   ],
   "source": [
    "contingency_table = pd.crosstab(df['Exercise Days/Week'], df['Sleep Quality'])\n",
    "contingency_table"
   ]
  },
  {
   "cell_type": "markdown",
   "metadata": {},
   "source": [
    "After that, the Chi-squared test could be conducted with `scipy` library"
   ]
  },
  {
   "cell_type": "code",
   "execution_count": 17,
   "metadata": {},
   "outputs": [
    {
     "name": "stdout",
     "output_type": "stream",
     "text": [
      "Chi2 Stat: 13.219870509579255\n",
      "P Value: 0.1529071255382214\n",
      "Degrees of Freedom: 9\n"
     ]
    }
   ],
   "source": [
    "from scipy.stats import chi2_contingency\n",
    "\n",
    "# Perform the Chi-squared test\n",
    "chi2_stat, p_val, dof, ex = chi2_contingency(contingency_table)\n",
    "\n",
    "# Print the results\n",
    "print(f\"Chi2 Stat: {chi2_stat}\")\n",
    "print(f\"P Value: {p_val}\")\n",
    "print(f\"Degrees of Freedom: {dof}\")"
   ]
  },
  {
   "cell_type": "markdown",
   "metadata": {},
   "source": [
    "1. **Chi-Squared Statistic (Chi2 Stat):**\n",
    "With a critical value of approximately 16.92 for a chi-square distribution with 9 degrees of freedom at a significance level ($\\alpha$) of 0.05, it's important to note that the calculated chi-square statistic (13.2199) falls below this critical value. Consequently, this indicates insufficient evidence to reject the null hypothesis.\n",
    "\n",
    "1. **P-Value:**\n",
    "Given a p-value of 0.1529, which exceeds the common significance level of 0.05 (or 5%), we are unable to reject the null hypothesis ($H_0$). In essence, this implies that there isn't enough compelling evidence to support a significant association or difference between the variables under examination (Weekly Exercise Frequency and Sleep Quality). In simpler terms, the observed data does not significantly differ from what would be expected assuming no association or difference.\n",
    "\n",
    "**Conclusion:**\n",
    "In summary, the results of the chi-squared test indicate that we lack the requisite evidence to reject the null hypothesis. Therefore, at a 5% significance level, it is not possible to conclude that Weekly Exercise Frequency has a significant impact on Sleep Quality."
   ]
  },
  {
   "cell_type": "markdown",
   "metadata": {},
   "source": []
  },
  {
   "cell_type": "markdown",
   "metadata": {},
   "source": [
    "## Hypothesis 4b - Weekly exercise frequency improves Sleep Duration"
   ]
  },
  {
   "cell_type": "markdown",
   "metadata": {},
   "source": [
    "### Spearman Correlation Test"
   ]
  },
  {
   "cell_type": "markdown",
   "metadata": {},
   "source": [
    "**Null Hypothesis ($H_0$)**: The increase of Weekly exercise frequency has no impact on Sleep Quality.\n",
    "\n",
    "**Alternative Hypothesis ($H_1$)**: The increase of Weekly exercise frequency improves on Sleep Quality.\n"
   ]
  },
  {
   "cell_type": "markdown",
   "metadata": {},
   "source": [
    "Since we are testing the positive correlation, `alternative='greater'` is used"
   ]
  },
  {
   "cell_type": "code",
   "execution_count": 18,
   "metadata": {},
   "outputs": [
    {
     "name": "stdout",
     "output_type": "stream",
     "text": [
      "Correlation: 0.18054562562558002\n",
      "P-value: 0.03265916110394638\n"
     ]
    }
   ],
   "source": [
    "import scipy.stats as stats\n",
    "\n",
    "# Perform Spearman correlation test\n",
    "da = df.dropna(subset=['Exercise Days/Week Ordinal','Calculated Night Sleep Duration'], axis='index')\n",
    "correlation, p_value = stats.spearmanr(da['Exercise Days/Week Ordinal'], da['Calculated Night Sleep Duration'], alternative='greater')\n",
    "\n",
    "print(f'Correlation: {correlation}')\n",
    "print(f'P-value: {p_value}')"
   ]
  },
  {
   "cell_type": "markdown",
   "metadata": {},
   "source": [
    "1. **Correlation Coefficient:**\n",
    "The correlation coefficient, denoted as r, is approximately 0.1805. This value represents a positive, albeit relatively weak, linear relationship between \"Weekly Exercise Frequency\" and \"Night Sleep Duration.\" In practical terms, it implies that as weekly exercise frequency increases, there is a tendency for night sleep duration to increase slightly, but the strength of this relationship is not very robust.\n",
    "\n",
    "1. **Statistical Significance:**\n",
    "The p-value associated with the correlation coefficient is approximately 0.0327. This p-value is less than the conventional significance level of 0.05. Consequently, it indicates that the observed correlation between weekly exercise frequency and night sleep duration is statistically significant. This suggests that the observed relationship is unlikely to be a random occurrence.\n",
    "\n",
    "**Conclusion:**\n",
    "In summary, the data reveals a statistically significant, yet relatively weak, positive linear relationship between weekly exercise frequency and night sleep duration. This means that as weekly exercise frequency increases, there is evidence to suggest a slight increase in night sleep duration, but it's important to note that other factors may also play a role in determining sleep duration."
   ]
  },
  {
   "cell_type": "markdown",
   "metadata": {},
   "source": [
    "### ANOVA Test"
   ]
  },
  {
   "cell_type": "code",
   "execution_count": 19,
   "metadata": {},
   "outputs": [
    {
     "name": "stdout",
     "output_type": "stream",
     "text": [
      "F-statistic: 2.9423229179890527\n",
      "P-value: 0.03667055489715219\n"
     ]
    }
   ],
   "source": [
    "import scipy.stats as stats\n",
    "\n",
    "# Create a DataFrame\n",
    "da = df.dropna(subset=['Exercise Days/Week','Calculated Night Sleep Duration'], axis='index')\n",
    "\n",
    "# Perform one-way ANOVA\n",
    "groups = da[\"Exercise Days/Week\"].unique()\n",
    "anova_results = []\n",
    "\n",
    "for group in groups:\n",
    "    group_data = da[da[\"Exercise Days/Week\"] == group][\"Calculated Night Sleep Duration\"]\n",
    "    anova_results.append(group_data)\n",
    "\n",
    "\n",
    "# Perform the ANOVA\n",
    "f_statistic, p_value = stats.f_oneway(*anova_results)\n",
    "print(f\"F-statistic: {f_statistic}\")\n",
    "print(f\"P-value: {p_value}\")"
   ]
  },
  {
   "cell_type": "markdown",
   "metadata": {},
   "source": [
    "\n",
    "1. **F-statistic:**\n",
    "The F-statistic of approximately 2.9423 indicates that there exists some variation between the group means, specifically in the context of sleep duration across exercise frequency groups.\n",
    "\n",
    "1. **P-value:**\n",
    "With a p-value of approximately 0.0367, which falls below the commonly selected significance level of 0.05, we find evidence to conclude that the one-way ANOVA is statistically significant.\n",
    "\n",
    "**Conclusion:**\n",
    "We can infer that there are statistically significant differences in sleep duration among the exercise frequency groups.\n",
    "In practical terms, this suggests that exercise frequency does indeed have a statistically significant impact on sleep duration. However, it's worth noting that the ANOVA itself doesn't elucidate the magnitude or direction of these differences. Further post-hoc tests or in-depth analysis may be necessary to explore the specific nature and extent of these variations."
   ]
  },
  {
   "cell_type": "markdown",
   "metadata": {},
   "source": [
    "## Hypothesis 5 - Increased Nap Time decreases Night Sleep duration"
   ]
  },
  {
   "cell_type": "markdown",
   "metadata": {},
   "source": [
    "### Spearman Correlation Test"
   ]
  },
  {
   "cell_type": "markdown",
   "metadata": {},
   "source": [
    "**Null Hypothesis ($H_0$)**: The increase of Nap time has no impact on Sleep Quality.\n",
    "\n",
    "**Alternative Hypothesis ($H_1$)**: The increase of Nap time shortens on Sleep Quality.\n"
   ]
  },
  {
   "cell_type": "code",
   "execution_count": 20,
   "metadata": {
    "tags": [
     "remove_cell"
    ]
   },
   "outputs": [],
   "source": [
    "nap_duration_mapping = {\n",
    "    \"No Nap\": 0,\n",
    "    \"<30 Minutes\": 15,\n",
    "    \"60-90 Minutes\": 75,\n",
    "    \"30-60 Minutes\": 45,\n",
    "    \">90 Minutes\": 90,\n",
    "}\n",
    "\n",
    "df[\"Nap Duration Ordinal\"] = df[\"Nap Duration\"].map(nap_duration_mapping)"
   ]
  },
  {
   "cell_type": "code",
   "execution_count": 21,
   "metadata": {},
   "outputs": [
    {
     "name": "stdout",
     "output_type": "stream",
     "text": [
      "Correlation: -0.12075730424094128\n",
      "P-value: 0.10989663093511584\n"
     ]
    }
   ],
   "source": [
    "import scipy.stats as stats\n",
    "\n",
    "# Perform Spearman correlation test\n",
    "da = df.dropna(subset=['Nap Duration Ordinal','Calculated Night Sleep Duration'], axis='index')\n",
    "\n",
    "correlation, p_value = stats.spearmanr(da['Nap Duration Ordinal'], da['Calculated Night Sleep Duration'], alternative='less')\n",
    "\n",
    "print(f'Correlation: {correlation}')\n",
    "print(f'P-value: {p_value}')"
   ]
  },
  {
   "cell_type": "markdown",
   "metadata": {},
   "source": [
    "* **Correlation Coefficient:**\n",
    "The correlation coefficient is approximately -0.121, indicating a very weak negative relationship between nap duration and sleep quality. This suggests that as nap duration increases, there is a slight tendency for sleep quality to decrease, but the relationship is not strong.\n",
    "* **P-value:**\n",
    "The p-value is approximately 0.110, which is above the conventional threshold of 0.05 for statistical significance. This means that the results do not provide enough evidence to reject the null hypothesis at the 5% significance level.\n",
    "\n",
    "**Conclusion:**\n",
    "Based on the results of the Spearman correlation test, there is not enough evidence to conclude that an increase in nap duration has a significant impact on sleep quality. While there is a weak negative correlation, it is not statistically significant, and therefore, the null hypothesis cannot be rejected. It is important to note that this does not necessarily mean there is no relationship at all, but rather that the test did not detect a strong enough relationship in the sample data to assert that one exists in the population."
   ]
  },
  {
   "cell_type": "markdown",
   "metadata": {},
   "source": [
    "### Kendall's Tau"
   ]
  },
  {
   "cell_type": "code",
   "execution_count": 22,
   "metadata": {},
   "outputs": [
    {
     "name": "stdout",
     "output_type": "stream",
     "text": [
      "Correlation: -0.096\n",
      "P-value: 0.11454464315718871\n"
     ]
    }
   ],
   "source": [
    "import scipy.stats as stats\n",
    "\n",
    "correlation, p_value = stats.kendalltau(\n",
    "    da[\"Nap Duration Ordinal\"].to_numpy().astype(float),\n",
    "    da[\"Calculated Night Sleep Duration\"].to_numpy(),\n",
    "    alternative=\"less\",\n",
    ")\n",
    "\n",
    "print(f\"Correlation: {correlation:.3f}\")\n",
    "print(f\"P-value: {p_value}\")"
   ]
  },
  {
   "cell_type": "markdown",
   "metadata": {},
   "source": [
    "* **Correlation Coefficient:** The value is -0.096, which indicates a very weak negative correlation between the two variables. This suggests that as nap duration increases, there is a slight tendency for night sleep duration to decrease, but this tendency is not strong.\n",
    "\n",
    "* **P-value:** The p-value is approximately 0.115, which is above the conventional alpha level of 0.05 used for determining statistical significance. This means that the negative correlation observed is not statistically significant.\n",
    "\n",
    "**Conclusion:**\n",
    "In conclusion, the analysis does not support the alternative hypothesis that increased nap duration has a significant impact on reducing night sleep duration. However, given the weak correlation, it is possible that a larger sample size or further studies could reveal more about the nature of this relationship."
   ]
  },
  {
   "cell_type": "markdown",
   "metadata": {},
   "source": [
    "# Conclusion"
   ]
  },
  {
   "cell_type": "markdown",
   "metadata": {},
   "source": [
    "At a significance level of 0.05, our analysis reveals the following noteworthy associations between various factors and sleep quality:\n",
    "\n",
    "* **Sleep Disturbance:** We find that an increase in sleep disturbances is linked to a notable deterioration in sleep quality. This suggests that individuals experiencing more sleep disruptions tend to report lower sleep quality, indicating the detrimental impact of such disturbances on overall restorative sleep.\n",
    "* **Age Group and Sleep Duration:** Our statistical analysis delineates a weak yet statistically significant negative correlation between age group and sleep duration. This suggests a tendency for sleep duration to decrease modestly as age increases. Although the correlation is not robust, the trend indicates that older individuals may experience a slight reduction in the amount of sleep they obtain, warranting attention to sleep health in advancing age groups.\n",
    "\n",
    "* **Sleep Onset Time:** Our analysis indicates that the speed at which an individual falls asleep plays a significant role in determining sleep quality. Specifically, a quicker onset of sleep is associated with a substantial improvement in sleep quality. This implies that individuals who are able to fall asleep more rapidly tend to enjoy a better overall sleep experience in terms of quality.\n",
    "\n",
    "* **Exercise Weekly Frequency:** Interestingly, our findings do not provide sufficient statistical evidence to support the notion that increasing exercise frequency significantly enhances sleep quality. However, it is worth noting that a correlation exists between higher exercise frequency and extended sleep duration. This suggests that individuals who engage in more frequent exercise routines tend to sleep for longer durations, although the \n",
    "improvement in sleep quality itself remains inconclusive.\n",
    "\n",
    "* **Nap Duration:** Our examination does not reveal a clear-cut connection between the length of naps and the overall duration of nighttime sleep. The data does not present a compelling case for the hypothesis that longer naps correlate with either an increase or decrease in the total amount of sleep obtained at night. As such, it remains uncertain whether napping habits have a significant impact on the length of nocturnal sleep, warranting further investigation.\n",
    "\n",
    "\n",
    "\n"
   ]
  }
 ],
 "metadata": {
  "kernelspec": {
   "display_name": "base",
   "language": "python",
   "name": "python3"
  },
  "language_info": {
   "codemirror_mode": {
    "name": "ipython",
    "version": 3
   },
   "file_extension": ".py",
   "mimetype": "text/x-python",
   "name": "python",
   "nbconvert_exporter": "python",
   "pygments_lexer": "ipython3",
   "version": "3.11.4"
  }
 },
 "nbformat": 4,
 "nbformat_minor": 2
}
